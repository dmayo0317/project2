{
 "cells": [
  {
   "cell_type": "code",
   "execution_count": null,
   "source": [
    "import pandas as pd\r\n",
    "from sqlalchemy import create_engine"
   ],
   "outputs": [],
   "metadata": {}
  },
  {
   "cell_type": "code",
   "execution_count": null,
   "source": [
    "# deaths_by_state = pd.DataFrame\r\n",
    "state_reader = pd.read_csv('Underlying Cause of Death, 1999-2019.txt', delimiter='\\t')\r\n",
    "state_reader.head(50)\r\n",
    "state_reader['avg pop'] = state_reader['Population']/20\r\n",
    "state_reader"
   ],
   "outputs": [],
   "metadata": {}
  },
  {
   "cell_type": "code",
   "execution_count": null,
   "source": [
    "total_by_state = state_reader[['State', 'Deaths']]\r\n",
    "total_by_state = total_by_state.head(51)\r\n",
    "total_by_state = total_by_state.drop([8])\r\n",
    "# total_by_state = total_by_state[total_by_state['Deaths'] != 'Suppressed']\r\n",
    "total_by_state = total_by_state.replace({'Suppressed': '0'})\r\n",
    "total_by_state['Deaths'] = total_by_state['Deaths'].astype(str).astype(int)\r\n",
    "total_by_state = total_by_state.sort_values('Deaths', ascending=False).reset_index(drop=True)\r\n",
    "total_by_state.index = total_by_state.index + 1\r\n",
    "total_by_state.index.name = 'rank'\r\n",
    "total_by_state = total_by_state.rename(columns={'State': 'state','Deaths': 'deaths'})\r\n",
    "total_by_state"
   ],
   "outputs": [],
   "metadata": {}
  },
  {
   "cell_type": "code",
   "execution_count": null,
   "source": [
    "connection_string = \"postgres:root@localhost:5432/animal_attacks_db\"\r\n",
    "engine = create_engine(f'postgresql://{connection_string}')"
   ],
   "outputs": [],
   "metadata": {}
  },
  {
   "cell_type": "code",
   "execution_count": null,
   "source": [
    "engine.table_names()"
   ],
   "outputs": [],
   "metadata": {}
  },
  {
   "cell_type": "code",
   "execution_count": null,
   "source": [
    "total_by_state.to_sql(name='deaths_by_state', con=engine, if_exists='append', index=True)"
   ],
   "outputs": [],
   "metadata": {}
  },
  {
   "cell_type": "markdown",
   "source": [
    "Citation: Centers for Disease Control and Prevention, National Center for Health Statistics. Underlying Cause of Death\"\r\n",
    "\"1999-2019 on CDC WONDER Online Database, released in 2020. Data are from the Multiple Cause of Death Files, 1999-2019, as\"\r\n",
    "\"compiled from data provided by the 57 vital statistics jurisdictions through the Vital Statistics Cooperative Program. Accessed\"\r\n",
    "\"at http://wonder.cdc.gov/ucd-icd10.html on Sep 18, 2021 2:21:47 PM\""
   ],
   "metadata": {}
  }
 ],
 "metadata": {
  "orig_nbformat": 4,
  "language_info": {
   "name": "python",
   "version": "3.6.13",
   "mimetype": "text/x-python",
   "codemirror_mode": {
    "name": "ipython",
    "version": 3
   },
   "pygments_lexer": "ipython3",
   "nbconvert_exporter": "python",
   "file_extension": ".py"
  },
  "kernelspec": {
   "name": "python3",
   "display_name": "Python 3.6.13 64-bit ('PYthonData': conda)"
  },
  "interpreter": {
   "hash": "d89047ea3e57b9d09279b694b5ddd79677741d7bee17b16a31c5b76cab74d3b4"
  }
 },
 "nbformat": 4,
 "nbformat_minor": 2
}