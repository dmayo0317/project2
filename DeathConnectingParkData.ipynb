{
 "cells": [
  {
   "cell_type": "code",
   "execution_count": 1,
   "metadata": {},
   "outputs": [],
   "source": [
    "import pandas as pd\n",
    "from sqlalchemy import create_engine\n",
    "import matplotlib.pyplot as plt\n",
    "import numpy as np"
   ]
  },
  {
   "cell_type": "code",
   "execution_count": 2,
   "metadata": {},
   "outputs": [
    {
     "data": {
      "text/html": [
       "<div>\n",
       "<style scoped>\n",
       "    .dataframe tbody tr th:only-of-type {\n",
       "        vertical-align: middle;\n",
       "    }\n",
       "\n",
       "    .dataframe tbody tr th {\n",
       "        vertical-align: top;\n",
       "    }\n",
       "\n",
       "    .dataframe thead th {\n",
       "        text-align: right;\n",
       "    }\n",
       "</style>\n",
       "<table border=\"1\" class=\"dataframe\">\n",
       "  <thead>\n",
       "    <tr style=\"text-align: right;\">\n",
       "      <th></th>\n",
       "      <th>Rank</th>\n",
       "      <th>Park Name</th>\n",
       "      <th>Death Total</th>\n",
       "      <th>Park Visits (2007-2018)</th>\n",
       "      <th>Deaths per 10 Million Visits</th>\n",
       "      <th>State</th>\n",
       "    </tr>\n",
       "  </thead>\n",
       "  <tbody>\n",
       "    <tr>\n",
       "      <th>0</th>\n",
       "      <td>1</td>\n",
       "      <td>North Cascades National Park</td>\n",
       "      <td>19</td>\n",
       "      <td>291,255</td>\n",
       "      <td>652.35</td>\n",
       "      <td>WA</td>\n",
       "    </tr>\n",
       "    <tr>\n",
       "      <th>1</th>\n",
       "      <td>2</td>\n",
       "      <td>Denali National Park &amp; Preserve</td>\n",
       "      <td>59</td>\n",
       "      <td>5,870,403</td>\n",
       "      <td>100.50</td>\n",
       "      <td>AK</td>\n",
       "    </tr>\n",
       "    <tr>\n",
       "      <th>2</th>\n",
       "      <td>3</td>\n",
       "      <td>Upper Delaware Scenic &amp; Recreational River</td>\n",
       "      <td>21</td>\n",
       "      <td>3,064,806</td>\n",
       "      <td>68.52</td>\n",
       "      <td>DE</td>\n",
       "    </tr>\n",
       "    <tr>\n",
       "      <th>3</th>\n",
       "      <td>4</td>\n",
       "      <td>Big Thicket National Preserve</td>\n",
       "      <td>11</td>\n",
       "      <td>1,643,769</td>\n",
       "      <td>66.92</td>\n",
       "      <td>TX</td>\n",
       "    </tr>\n",
       "    <tr>\n",
       "      <th>4</th>\n",
       "      <td>5</td>\n",
       "      <td>Little River Canyon National Preserve</td>\n",
       "      <td>17</td>\n",
       "      <td>3,199,845</td>\n",
       "      <td>53.13</td>\n",
       "      <td>AL</td>\n",
       "    </tr>\n",
       "  </tbody>\n",
       "</table>\n",
       "</div>"
      ],
      "text/plain": [
       "   Rank                                   Park Name  Death Total  \\\n",
       "0     1                North Cascades National Park           19   \n",
       "1     2             Denali National Park & Preserve           59   \n",
       "2     3  Upper Delaware Scenic & Recreational River           21   \n",
       "3     4               Big Thicket National Preserve           11   \n",
       "4     5       Little River Canyon National Preserve           17   \n",
       "\n",
       "  Park Visits (2007-2018)  Deaths per 10 Million Visits State  \n",
       "0                 291,255                        652.35    WA  \n",
       "1               5,870,403                        100.50    AK  \n",
       "2               3,064,806                         68.52    DE  \n",
       "3               1,643,769                         66.92    TX  \n",
       "4               3,199,845                         53.13    AL  "
      ]
     },
     "execution_count": 2,
     "metadata": {},
     "output_type": "execute_result"
    }
   ],
   "source": [
    "#Store CSV into DataFrame\n",
    "ParkDeaths = \"StateParkDeaths.csv\"\n",
    "DemiseChart = pd.read_csv(ParkDeaths)\n",
    "DemiseChart.head()"
   ]
  },
  {
   "cell_type": "code",
   "execution_count": 3,
   "metadata": {},
   "outputs": [
    {
     "data": {
      "text/html": [
       "<div>\n",
       "<style scoped>\n",
       "    .dataframe tbody tr th:only-of-type {\n",
       "        vertical-align: middle;\n",
       "    }\n",
       "\n",
       "    .dataframe tbody tr th {\n",
       "        vertical-align: top;\n",
       "    }\n",
       "\n",
       "    .dataframe thead th {\n",
       "        text-align: right;\n",
       "    }\n",
       "</style>\n",
       "<table border=\"1\" class=\"dataframe\">\n",
       "  <thead>\n",
       "    <tr style=\"text-align: right;\">\n",
       "      <th></th>\n",
       "      <th>state</th>\n",
       "      <th>deaths</th>\n",
       "      <th>park_name</th>\n",
       "    </tr>\n",
       "  </thead>\n",
       "  <tbody>\n",
       "    <tr>\n",
       "      <th>1</th>\n",
       "      <td>NV</td>\n",
       "      <td>201</td>\n",
       "      <td>Lake Mead National Recreation Area</td>\n",
       "    </tr>\n",
       "    <tr>\n",
       "      <th>2</th>\n",
       "      <td>CA</td>\n",
       "      <td>133</td>\n",
       "      <td>Yosemite National Park</td>\n",
       "    </tr>\n",
       "    <tr>\n",
       "      <th>3</th>\n",
       "      <td>AZ</td>\n",
       "      <td>131</td>\n",
       "      <td>Grand Canyon National Park</td>\n",
       "    </tr>\n",
       "    <tr>\n",
       "      <th>4</th>\n",
       "      <td>MS</td>\n",
       "      <td>104</td>\n",
       "      <td>Natchez Trace Parkway</td>\n",
       "    </tr>\n",
       "    <tr>\n",
       "      <th>5</th>\n",
       "      <td>NC</td>\n",
       "      <td>97</td>\n",
       "      <td>Blue Ridge Parkway</td>\n",
       "    </tr>\n",
       "  </tbody>\n",
       "</table>\n",
       "</div>"
      ],
      "text/plain": [
       "  state  deaths                           park_name\n",
       "1    NV     201  Lake Mead National Recreation Area\n",
       "2    CA     133              Yosemite National Park\n",
       "3    AZ     131          Grand Canyon National Park\n",
       "4    MS     104               Natchez Trace Parkway\n",
       "5    NC      97                  Blue Ridge Parkway"
      ]
     },
     "execution_count": 3,
     "metadata": {},
     "output_type": "execute_result"
    }
   ],
   "source": [
    "#Create new data with select columns\n",
    "StateDemiseChart = DemiseChart[['State', 'Death Total','Park Name']]\n",
    "#Clean DataFrame\n",
    "ByState = StateDemiseChart.sort_values('Death Total', ascending=False).reset_index(drop=True)\n",
    "ByState.index = ByState.index + 1\n",
    "ByState = ByState.rename(columns={\"State\": \"state\", \"Death Total\": \"deaths\", \"Park Name\": \"park_name\"})\n",
    "Graph_Usage = ByState.head()\n",
    "Graph_Usage"
   ]
  },
  {
   "cell_type": "code",
   "execution_count": 4,
   "metadata": {},
   "outputs": [],
   "source": [
    "#Connect to local database\n",
    "#connection_string = \"<insert user name>:<insert password>@localhost:5432/customer_db\"\n",
    "#connection_string = \"postgres:InTheMourning!83@localhost:5432/State_Demise_db\"\n",
    "#engine = create_engine(f'postgresql://{connection_string}')"
   ]
  },
  {
   "cell_type": "code",
   "execution_count": 5,
   "metadata": {},
   "outputs": [],
   "source": [
    "# Confirm tables\n",
    "#engine.table_names()"
   ]
  },
  {
   "cell_type": "code",
   "execution_count": 6,
   "metadata": {},
   "outputs": [],
   "source": [
    "#Use pandas to load csv converted DataFrame into database\n",
    "#ByState.to_sql(name='park_deaths_state', con=engine, if_exists='append', index=False)"
   ]
  },
  {
   "cell_type": "code",
   "execution_count": 7,
   "metadata": {},
   "outputs": [
    {
     "data": {
      "image/png": "[encoded data removed]",
      "text/plain": [
       "<Figure size 432x288 with 1 Axes>"
      ]
     },
     "metadata": {
      "needs_background": "light"
     },
     "output_type": "display_data"
    }
   ],
   "source": [
    "Park_Graph = Graph_Usage.plot.barh(y=\"deaths\", x=\"park_name\")\n",
    "Park_Graph.set_ylabel(\"Park Name\")\n",
    "Park_Graph.set_xlabel(\"Deaths\")\n",
    "Save = Park_Graph.set_title(\"Parks With Most Deaths (2007 - 2018)\")"
   ]
  },
  {
   "cell_type": "code",
   "execution_count": null,
   "metadata": {},
   "outputs": [],
   "source": []
  }
 ],
 "metadata": {
  "kernelspec": {
   "display_name": "Python 3",
   "language": "python",
   "name": "python3"
  },
  "language_info": {
   "codemirror_mode": {
    "name": "ipython",
    "version": 3
   },
   "file_extension": ".py",
   "mimetype": "text/x-python",
   "name": "python",
   "nbconvert_exporter": "python",
   "pygments_lexer": "ipython3",
   "version": "3.6.10"
  }
 },
 "nbformat": 4,
 "nbformat_minor": 5
}
